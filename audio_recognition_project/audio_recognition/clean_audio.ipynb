{
  "cells": [
    {
      "cell_type": "markdown",
      "metadata": {
        "id": "view-in-github",
        "colab_type": "text"
      },
      "source": [
        "<a href=\"https://colab.research.google.com/github/JayBabon/DSP/blob/main/audio_recognition_project/audio_recognition/clean_audio.ipynb\" target=\"_parent\"><img src=\"https://colab.research.google.com/assets/colab-badge.svg\" alt=\"Open In Colab\"/></a>"
      ]
    },
    {
      "cell_type": "code",
      "execution_count": null,
      "metadata": {
        "colab": {
          "base_uri": "https://localhost:8080/",
          "height": 584
        },
        "id": "YbZjJBgO29CH",
        "outputId": "bd25c5c7-bbd0-41dd-f905-27fc43b8bce9"
      },
      "outputs": [
        {
          "output_type": "stream",
          "name": "stderr",
          "text": [
            "<ipython-input-1-ef37ba8be989>:6: UserWarning: PySoundFile failed. Trying audioread instead.\n",
            "  audio, sample_rate = librosa.load('thevoiceECE1.m4a', sr=44100)\n",
            "/usr/local/lib/python3.11/dist-packages/librosa/core/audio.py:184: FutureWarning: librosa.core.audio.__audioread_load\n",
            "\tDeprecated as of librosa version 0.10.0.\n",
            "\tIt will be removed in librosa version 1.0.\n",
            "  y, sr_native = __audioread_load(path, offset, duration, dtype)\n"
          ]
        },
        {
          "output_type": "error",
          "ename": "FileNotFoundError",
          "evalue": "[Errno 2] No such file or directory: 'thevoiceECE1.m4a'",
          "traceback": [
            "\u001b[0;31m---------------------------------------------------------------------------\u001b[0m",
            "\u001b[0;31mLibsndfileError\u001b[0m                           Traceback (most recent call last)",
            "\u001b[0;32m/usr/local/lib/python3.11/dist-packages/librosa/core/audio.py\u001b[0m in \u001b[0;36mload\u001b[0;34m(path, sr, mono, offset, duration, dtype, res_type)\u001b[0m\n\u001b[1;32m    175\u001b[0m         \u001b[0;32mtry\u001b[0m\u001b[0;34m:\u001b[0m\u001b[0;34m\u001b[0m\u001b[0;34m\u001b[0m\u001b[0m\n\u001b[0;32m--> 176\u001b[0;31m             \u001b[0my\u001b[0m\u001b[0;34m,\u001b[0m \u001b[0msr_native\u001b[0m \u001b[0;34m=\u001b[0m \u001b[0m__soundfile_load\u001b[0m\u001b[0;34m(\u001b[0m\u001b[0mpath\u001b[0m\u001b[0;34m,\u001b[0m \u001b[0moffset\u001b[0m\u001b[0;34m,\u001b[0m \u001b[0mduration\u001b[0m\u001b[0;34m,\u001b[0m \u001b[0mdtype\u001b[0m\u001b[0;34m)\u001b[0m\u001b[0;34m\u001b[0m\u001b[0;34m\u001b[0m\u001b[0m\n\u001b[0m\u001b[1;32m    177\u001b[0m \u001b[0;34m\u001b[0m\u001b[0m\n",
            "\u001b[0;32m/usr/local/lib/python3.11/dist-packages/librosa/core/audio.py\u001b[0m in \u001b[0;36m__soundfile_load\u001b[0;34m(path, offset, duration, dtype)\u001b[0m\n\u001b[1;32m    208\u001b[0m         \u001b[0;31m# Otherwise, create the soundfile object\u001b[0m\u001b[0;34m\u001b[0m\u001b[0;34m\u001b[0m\u001b[0m\n\u001b[0;32m--> 209\u001b[0;31m         \u001b[0mcontext\u001b[0m \u001b[0;34m=\u001b[0m \u001b[0msf\u001b[0m\u001b[0;34m.\u001b[0m\u001b[0mSoundFile\u001b[0m\u001b[0;34m(\u001b[0m\u001b[0mpath\u001b[0m\u001b[0;34m)\u001b[0m\u001b[0;34m\u001b[0m\u001b[0;34m\u001b[0m\u001b[0m\n\u001b[0m\u001b[1;32m    210\u001b[0m \u001b[0;34m\u001b[0m\u001b[0m\n",
            "\u001b[0;32m/usr/local/lib/python3.11/dist-packages/soundfile.py\u001b[0m in \u001b[0;36m__init__\u001b[0;34m(self, file, mode, samplerate, channels, subtype, endian, format, closefd, compression_level, bitrate_mode)\u001b[0m\n\u001b[1;32m    689\u001b[0m                                          format, subtype, endian)\n\u001b[0;32m--> 690\u001b[0;31m         \u001b[0mself\u001b[0m\u001b[0;34m.\u001b[0m\u001b[0m_file\u001b[0m \u001b[0;34m=\u001b[0m \u001b[0mself\u001b[0m\u001b[0;34m.\u001b[0m\u001b[0m_open\u001b[0m\u001b[0;34m(\u001b[0m\u001b[0mfile\u001b[0m\u001b[0;34m,\u001b[0m \u001b[0mmode_int\u001b[0m\u001b[0;34m,\u001b[0m \u001b[0mclosefd\u001b[0m\u001b[0;34m)\u001b[0m\u001b[0;34m\u001b[0m\u001b[0;34m\u001b[0m\u001b[0m\n\u001b[0m\u001b[1;32m    691\u001b[0m         \u001b[0;32mif\u001b[0m \u001b[0mset\u001b[0m\u001b[0;34m(\u001b[0m\u001b[0mmode\u001b[0m\u001b[0;34m)\u001b[0m\u001b[0;34m.\u001b[0m\u001b[0missuperset\u001b[0m\u001b[0;34m(\u001b[0m\u001b[0;34m'r+'\u001b[0m\u001b[0;34m)\u001b[0m \u001b[0;32mand\u001b[0m \u001b[0mself\u001b[0m\u001b[0;34m.\u001b[0m\u001b[0mseekable\u001b[0m\u001b[0;34m(\u001b[0m\u001b[0;34m)\u001b[0m\u001b[0;34m:\u001b[0m\u001b[0;34m\u001b[0m\u001b[0;34m\u001b[0m\u001b[0m\n",
            "\u001b[0;32m/usr/local/lib/python3.11/dist-packages/soundfile.py\u001b[0m in \u001b[0;36m_open\u001b[0;34m(self, file, mode_int, closefd)\u001b[0m\n\u001b[1;32m   1264\u001b[0m             \u001b[0merr\u001b[0m \u001b[0;34m=\u001b[0m \u001b[0m_snd\u001b[0m\u001b[0;34m.\u001b[0m\u001b[0msf_error\u001b[0m\u001b[0;34m(\u001b[0m\u001b[0mfile_ptr\u001b[0m\u001b[0;34m)\u001b[0m\u001b[0;34m\u001b[0m\u001b[0;34m\u001b[0m\u001b[0m\n\u001b[0;32m-> 1265\u001b[0;31m             \u001b[0;32mraise\u001b[0m \u001b[0mLibsndfileError\u001b[0m\u001b[0;34m(\u001b[0m\u001b[0merr\u001b[0m\u001b[0;34m,\u001b[0m \u001b[0mprefix\u001b[0m\u001b[0;34m=\u001b[0m\u001b[0;34m\"Error opening {0!r}: \"\u001b[0m\u001b[0;34m.\u001b[0m\u001b[0mformat\u001b[0m\u001b[0;34m(\u001b[0m\u001b[0mself\u001b[0m\u001b[0;34m.\u001b[0m\u001b[0mname\u001b[0m\u001b[0;34m)\u001b[0m\u001b[0;34m)\u001b[0m\u001b[0;34m\u001b[0m\u001b[0;34m\u001b[0m\u001b[0m\n\u001b[0m\u001b[1;32m   1266\u001b[0m         \u001b[0;32mif\u001b[0m \u001b[0mmode_int\u001b[0m \u001b[0;34m==\u001b[0m \u001b[0m_snd\u001b[0m\u001b[0;34m.\u001b[0m\u001b[0mSFM_WRITE\u001b[0m\u001b[0;34m:\u001b[0m\u001b[0;34m\u001b[0m\u001b[0;34m\u001b[0m\u001b[0m\n",
            "\u001b[0;31mLibsndfileError\u001b[0m: Error opening 'thevoiceECE1.m4a': System error.",
            "\nDuring handling of the above exception, another exception occurred:\n",
            "\u001b[0;31mFileNotFoundError\u001b[0m                         Traceback (most recent call last)",
            "\u001b[0;32m<ipython-input-1-ef37ba8be989>\u001b[0m in \u001b[0;36m<cell line: 0>\u001b[0;34m()\u001b[0m\n\u001b[1;32m      4\u001b[0m \u001b[0;34m\u001b[0m\u001b[0m\n\u001b[1;32m      5\u001b[0m \u001b[0;31m# Load the audio file\u001b[0m\u001b[0;34m\u001b[0m\u001b[0;34m\u001b[0m\u001b[0m\n\u001b[0;32m----> 6\u001b[0;31m \u001b[0maudio\u001b[0m\u001b[0;34m,\u001b[0m \u001b[0msample_rate\u001b[0m \u001b[0;34m=\u001b[0m \u001b[0mlibrosa\u001b[0m\u001b[0;34m.\u001b[0m\u001b[0mload\u001b[0m\u001b[0;34m(\u001b[0m\u001b[0;34m'thevoiceECE1.m4a'\u001b[0m\u001b[0;34m,\u001b[0m \u001b[0msr\u001b[0m\u001b[0;34m=\u001b[0m\u001b[0;36m44100\u001b[0m\u001b[0;34m)\u001b[0m\u001b[0;34m\u001b[0m\u001b[0;34m\u001b[0m\u001b[0m\n\u001b[0m\u001b[1;32m      7\u001b[0m \u001b[0;34m\u001b[0m\u001b[0m\n\u001b[1;32m      8\u001b[0m \u001b[0;31m# Find the index of the first positive sample\u001b[0m\u001b[0;34m\u001b[0m\u001b[0;34m\u001b[0m\u001b[0m\n",
            "\u001b[0;32m/usr/local/lib/python3.11/dist-packages/librosa/core/audio.py\u001b[0m in \u001b[0;36mload\u001b[0;34m(path, sr, mono, offset, duration, dtype, res_type)\u001b[0m\n\u001b[1;32m    182\u001b[0m                     \u001b[0;34m\"PySoundFile failed. Trying audioread instead.\"\u001b[0m\u001b[0;34m,\u001b[0m \u001b[0mstacklevel\u001b[0m\u001b[0;34m=\u001b[0m\u001b[0;36m2\u001b[0m\u001b[0;34m\u001b[0m\u001b[0;34m\u001b[0m\u001b[0m\n\u001b[1;32m    183\u001b[0m                 )\n\u001b[0;32m--> 184\u001b[0;31m                 \u001b[0my\u001b[0m\u001b[0;34m,\u001b[0m \u001b[0msr_native\u001b[0m \u001b[0;34m=\u001b[0m \u001b[0m__audioread_load\u001b[0m\u001b[0;34m(\u001b[0m\u001b[0mpath\u001b[0m\u001b[0;34m,\u001b[0m \u001b[0moffset\u001b[0m\u001b[0;34m,\u001b[0m \u001b[0mduration\u001b[0m\u001b[0;34m,\u001b[0m \u001b[0mdtype\u001b[0m\u001b[0;34m)\u001b[0m\u001b[0;34m\u001b[0m\u001b[0;34m\u001b[0m\u001b[0m\n\u001b[0m\u001b[1;32m    185\u001b[0m             \u001b[0;32melse\u001b[0m\u001b[0;34m:\u001b[0m\u001b[0;34m\u001b[0m\u001b[0;34m\u001b[0m\u001b[0m\n\u001b[1;32m    186\u001b[0m                 \u001b[0;32mraise\u001b[0m \u001b[0mexc\u001b[0m\u001b[0;34m\u001b[0m\u001b[0;34m\u001b[0m\u001b[0m\n",
            "\u001b[0;32m<decorator-gen-158>\u001b[0m in \u001b[0;36m__audioread_load\u001b[0;34m(path, offset, duration, dtype)\u001b[0m\n",
            "\u001b[0;32m/usr/local/lib/python3.11/dist-packages/librosa/util/decorators.py\u001b[0m in \u001b[0;36m__wrapper\u001b[0;34m(func, *args, **kwargs)\u001b[0m\n\u001b[1;32m     57\u001b[0m             \u001b[0mstacklevel\u001b[0m\u001b[0;34m=\u001b[0m\u001b[0;36m3\u001b[0m\u001b[0;34m,\u001b[0m  \u001b[0;31m# Would be 2, but the decorator adds a level\u001b[0m\u001b[0;34m\u001b[0m\u001b[0;34m\u001b[0m\u001b[0m\n\u001b[1;32m     58\u001b[0m         )\n\u001b[0;32m---> 59\u001b[0;31m         \u001b[0;32mreturn\u001b[0m \u001b[0mfunc\u001b[0m\u001b[0;34m(\u001b[0m\u001b[0;34m*\u001b[0m\u001b[0margs\u001b[0m\u001b[0;34m,\u001b[0m \u001b[0;34m**\u001b[0m\u001b[0mkwargs\u001b[0m\u001b[0;34m)\u001b[0m\u001b[0;34m\u001b[0m\u001b[0;34m\u001b[0m\u001b[0m\n\u001b[0m\u001b[1;32m     60\u001b[0m \u001b[0;34m\u001b[0m\u001b[0m\n\u001b[1;32m     61\u001b[0m     \u001b[0;32mreturn\u001b[0m \u001b[0mdecorator\u001b[0m\u001b[0;34m(\u001b[0m\u001b[0m__wrapper\u001b[0m\u001b[0;34m)\u001b[0m\u001b[0;34m\u001b[0m\u001b[0;34m\u001b[0m\u001b[0m\n",
            "\u001b[0;32m/usr/local/lib/python3.11/dist-packages/librosa/core/audio.py\u001b[0m in \u001b[0;36m__audioread_load\u001b[0;34m(path, offset, duration, dtype)\u001b[0m\n\u001b[1;32m    238\u001b[0m     \u001b[0;32melse\u001b[0m\u001b[0;34m:\u001b[0m\u001b[0;34m\u001b[0m\u001b[0;34m\u001b[0m\u001b[0m\n\u001b[1;32m    239\u001b[0m         \u001b[0;31m# If the input was not an audioread object, try to open it\u001b[0m\u001b[0;34m\u001b[0m\u001b[0;34m\u001b[0m\u001b[0m\n\u001b[0;32m--> 240\u001b[0;31m         \u001b[0mreader\u001b[0m \u001b[0;34m=\u001b[0m \u001b[0maudioread\u001b[0m\u001b[0;34m.\u001b[0m\u001b[0maudio_open\u001b[0m\u001b[0;34m(\u001b[0m\u001b[0mpath\u001b[0m\u001b[0;34m)\u001b[0m\u001b[0;34m\u001b[0m\u001b[0;34m\u001b[0m\u001b[0m\n\u001b[0m\u001b[1;32m    241\u001b[0m \u001b[0;34m\u001b[0m\u001b[0m\n\u001b[1;32m    242\u001b[0m     \u001b[0;32mwith\u001b[0m \u001b[0mreader\u001b[0m \u001b[0;32mas\u001b[0m \u001b[0minput_file\u001b[0m\u001b[0;34m:\u001b[0m\u001b[0;34m\u001b[0m\u001b[0;34m\u001b[0m\u001b[0m\n",
            "\u001b[0;32m/usr/local/lib/python3.11/dist-packages/audioread/__init__.py\u001b[0m in \u001b[0;36maudio_open\u001b[0;34m(path, backends)\u001b[0m\n\u001b[1;32m    125\u001b[0m     \u001b[0;32mfor\u001b[0m \u001b[0mBackendClass\u001b[0m \u001b[0;32min\u001b[0m \u001b[0mbackends\u001b[0m\u001b[0;34m:\u001b[0m\u001b[0;34m\u001b[0m\u001b[0;34m\u001b[0m\u001b[0m\n\u001b[1;32m    126\u001b[0m         \u001b[0;32mtry\u001b[0m\u001b[0;34m:\u001b[0m\u001b[0;34m\u001b[0m\u001b[0;34m\u001b[0m\u001b[0m\n\u001b[0;32m--> 127\u001b[0;31m             \u001b[0;32mreturn\u001b[0m \u001b[0mBackendClass\u001b[0m\u001b[0;34m(\u001b[0m\u001b[0mpath\u001b[0m\u001b[0;34m)\u001b[0m\u001b[0;34m\u001b[0m\u001b[0;34m\u001b[0m\u001b[0m\n\u001b[0m\u001b[1;32m    128\u001b[0m         \u001b[0;32mexcept\u001b[0m \u001b[0mDecodeError\u001b[0m\u001b[0;34m:\u001b[0m\u001b[0;34m\u001b[0m\u001b[0;34m\u001b[0m\u001b[0m\n\u001b[1;32m    129\u001b[0m             \u001b[0;32mpass\u001b[0m\u001b[0;34m\u001b[0m\u001b[0;34m\u001b[0m\u001b[0m\n",
            "\u001b[0;32m/usr/local/lib/python3.11/dist-packages/audioread/rawread.py\u001b[0m in \u001b[0;36m__init__\u001b[0;34m(self, filename)\u001b[0m\n\u001b[1;32m     57\u001b[0m     \"\"\"\n\u001b[1;32m     58\u001b[0m     \u001b[0;32mdef\u001b[0m \u001b[0m__init__\u001b[0m\u001b[0;34m(\u001b[0m\u001b[0mself\u001b[0m\u001b[0;34m,\u001b[0m \u001b[0mfilename\u001b[0m\u001b[0;34m)\u001b[0m\u001b[0;34m:\u001b[0m\u001b[0;34m\u001b[0m\u001b[0;34m\u001b[0m\u001b[0m\n\u001b[0;32m---> 59\u001b[0;31m         \u001b[0mself\u001b[0m\u001b[0;34m.\u001b[0m\u001b[0m_fh\u001b[0m \u001b[0;34m=\u001b[0m \u001b[0mopen\u001b[0m\u001b[0;34m(\u001b[0m\u001b[0mfilename\u001b[0m\u001b[0;34m,\u001b[0m \u001b[0;34m'rb'\u001b[0m\u001b[0;34m)\u001b[0m\u001b[0;34m\u001b[0m\u001b[0;34m\u001b[0m\u001b[0m\n\u001b[0m\u001b[1;32m     60\u001b[0m \u001b[0;34m\u001b[0m\u001b[0m\n\u001b[1;32m     61\u001b[0m         \u001b[0;32mtry\u001b[0m\u001b[0;34m:\u001b[0m\u001b[0;34m\u001b[0m\u001b[0;34m\u001b[0m\u001b[0m\n",
            "\u001b[0;31mFileNotFoundError\u001b[0m: [Errno 2] No such file or directory: 'thevoiceECE1.m4a'"
          ]
        }
      ],
      "source": [
        "import librosa\n",
        "import numpy as np\n",
        "import soundfile as sf\n",
        "\n",
        "# Load the audio file\n",
        "audio, sample_rate = librosa.load('thevoiceECE1.m4a', sr=44100)\n",
        "\n",
        "# Find the index of the first positive sample\n",
        "first_positive_index = np.where(audio > 0)[0]\n",
        "\n",
        "# Check if there's a positive sample\n",
        "if first_positive_index.size > 0:\n",
        "    # Crop the audio from the first positive sample to 44100 samples\n",
        "    start_index = first_positive_index[0]\n",
        "    cropped_audio = audio[start_index:start_index + 44100]\n",
        "\n",
        "    # Ensure we don't exceed the array length\n",
        "    if len(cropped_audio) < 44100:\n",
        "        print(\"Not enough samples to crop to 44100.\")\n",
        "    else:\n",
        "        # Write the cropped audio to a new file\n",
        "        sf.write('thevoiceECE100.wav', cropped_audio, sample_rate, subtype='PCM_24')\n",
        "else:\n",
        "    print(\"No positive samples found in the audio.\")"
      ]
    },
    {
      "cell_type": "code",
      "execution_count": null,
      "metadata": {
        "colab": {
          "base_uri": "https://localhost:8080/"
        },
        "id": "Scr1ejZy3gXn",
        "outputId": "798c71cb-b66b-4120-afd7-ba0d55bdea2c"
      },
      "outputs": [
        {
          "name": "stdout",
          "output_type": "stream",
          "text": [
            "Number of samples: 44100\n"
          ]
        }
      ],
      "source": [
        "import librosa\n",
        "\n",
        "# Load the audio file\n",
        "audio, sample_rate = librosa.load('Clean_ECE1.wav', sr=44100)\n",
        "\n",
        "# Get the number of samples\n",
        "num_samples = len(audio)\n",
        "\n",
        "print(f\"Number of samples: {num_samples}\")"
      ]
    },
    {
      "cell_type": "code",
      "execution_count": null,
      "metadata": {
        "colab": {
          "background_save": true,
          "base_uri": "https://localhost:8080/"
        },
        "collapsed": true,
        "id": "2btKlD5Z38vT",
        "outputId": "9f7609f7-0fe3-4a3b-81c0-3420d5075ac0"
      },
      "outputs": [
        {
          "name": "stdout",
          "output_type": "stream",
          "text": [
            "Cloning into 'ThinkDSP'...\n",
            "remote: Enumerating objects: 2636, done.\u001b[K\n",
            "remote: Counting objects: 100% (167/167), done.\u001b[K\n",
            "remote: Compressing objects: 100% (92/92), done.\u001b[K\n",
            "remote: Total 2636 (delta 77), reused 142 (delta 64), pack-reused 2469 (from 1)\u001b[K\n",
            "Receiving objects: 100% (2636/2636), 235.54 MiB | 15.58 MiB/s, done.\n",
            "Resolving deltas: 100% (1430/1430), done.\n"
          ]
        }
      ],
      "source": [
        "!git clone https://github.com/AllenDowney/ThinkDSP.git"
      ]
    },
    {
      "cell_type": "code",
      "execution_count": null,
      "metadata": {
        "colab": {
          "background_save": true,
          "base_uri": "https://localhost:8080/"
        },
        "collapsed": true,
        "id": "-M3VSZqd4FMt",
        "outputId": "636f2a74-d659-4af4-b1ab-d186b54ac1fe"
      },
      "outputs": [
        {
          "name": "stdout",
          "output_type": "stream",
          "text": [
            "--2024-11-05 05:45:00--  https://github.com/AllenDowney/ThinkDSP/raw/master/code/thinkdsp.py\n",
            "Resolving github.com (github.com)... 20.27.177.113\n",
            "Connecting to github.com (github.com)|20.27.177.113|:443... connected.\n",
            "HTTP request sent, awaiting response... 302 Found\n",
            "Location: https://raw.githubusercontent.com/AllenDowney/ThinkDSP/master/code/thinkdsp.py [following]\n",
            "--2024-11-05 05:45:00--  https://raw.githubusercontent.com/AllenDowney/ThinkDSP/master/code/thinkdsp.py\n",
            "Resolving raw.githubusercontent.com (raw.githubusercontent.com)... 185.199.108.133, 185.199.111.133, 185.199.109.133, ...\n",
            "Connecting to raw.githubusercontent.com (raw.githubusercontent.com)|185.199.108.133|:443... connected.\n",
            "HTTP request sent, awaiting response... 200 OK\n",
            "Length: 48554 (47K) [text/plain]\n",
            "Saving to: ‘thinkdsp.py’\n",
            "\n",
            "thinkdsp.py         100%[===================>]  47.42K  --.-KB/s    in 0.04s   \n",
            "\n",
            "2024-11-05 05:45:00 (1.21 MB/s) - ‘thinkdsp.py’ saved [48554/48554]\n",
            "\n"
          ]
        }
      ],
      "source": [
        "# Get thinkdsp.py\n",
        "\n",
        "import os\n",
        "\n",
        "if not os.path.exists('thinkdsp.py'):\n",
        "    !wget https://github.com/AllenDowney/ThinkDSP/raw/master/code/thinkdsp.py"
      ]
    },
    {
      "cell_type": "code",
      "execution_count": null,
      "metadata": {
        "colab": {
          "base_uri": "https://localhost:8080/",
          "height": 430
        },
        "id": "ki8IpKqa3yAj",
        "outputId": "d74294f5-2df8-43f5-9468-70b3136cd8ba"
      },
      "outputs": [
        {
          "data": {
            "image/png": "[encoded data removed]",
            "text/plain": [
              "<Figure size 640x480 with 1 Axes>"
            ]
          },
          "metadata": {},
          "output_type": "display_data"
        }
      ],
      "source": [
        "from thinkdsp import read_wave\n",
        "\n",
        "myVoice = read_wave ('Clean_ECE12.wav')\n",
        "\n",
        "myVoice.plot()"
      ]
    },
    {
      "cell_type": "code",
      "execution_count": null,
      "metadata": {
        "colab": {
          "base_uri": "https://localhost:8080/"
        },
        "collapsed": true,
        "id": "uIVHM2NAC-ZK",
        "outputId": "f1456219-2e13-4c9e-d55f-d27a46a932bb"
      },
      "outputs": [
        {
          "name": "stdout",
          "output_type": "stream",
          "text": [
            "Requirement already satisfied: librosa in /usr/local/lib/python3.10/dist-packages (0.10.2.post1)\n",
            "Requirement already satisfied: audioread>=2.1.9 in /usr/local/lib/python3.10/dist-packages (from librosa) (3.0.1)\n",
            "Requirement already satisfied: numpy!=1.22.0,!=1.22.1,!=1.22.2,>=1.20.3 in /usr/local/lib/python3.10/dist-packages (from librosa) (1.26.4)\n",
            "Requirement already satisfied: scipy>=1.2.0 in /usr/local/lib/python3.10/dist-packages (from librosa) (1.13.1)\n",
            "Requirement already satisfied: scikit-learn>=0.20.0 in /usr/local/lib/python3.10/dist-packages (from librosa) (1.5.2)\n",
            "Requirement already satisfied: joblib>=0.14 in /usr/local/lib/python3.10/dist-packages (from librosa) (1.4.2)\n",
            "Requirement already satisfied: decorator>=4.3.0 in /usr/local/lib/python3.10/dist-packages (from librosa) (4.4.2)\n",
            "Requirement already satisfied: numba>=0.51.0 in /usr/local/lib/python3.10/dist-packages (from librosa) (0.60.0)\n",
            "Requirement already satisfied: soundfile>=0.12.1 in /usr/local/lib/python3.10/dist-packages (from librosa) (0.12.1)\n",
            "Requirement already satisfied: pooch>=1.1 in /usr/local/lib/python3.10/dist-packages (from librosa) (1.8.2)\n",
            "Requirement already satisfied: soxr>=0.3.2 in /usr/local/lib/python3.10/dist-packages (from librosa) (0.5.0.post1)\n",
            "Requirement already satisfied: typing-extensions>=4.1.1 in /usr/local/lib/python3.10/dist-packages (from librosa) (4.12.2)\n",
            "Requirement already satisfied: lazy-loader>=0.1 in /usr/local/lib/python3.10/dist-packages (from librosa) (0.4)\n",
            "Requirement already satisfied: msgpack>=1.0 in /usr/local/lib/python3.10/dist-packages (from librosa) (1.1.0)\n",
            "Requirement already satisfied: packaging in /usr/local/lib/python3.10/dist-packages (from lazy-loader>=0.1->librosa) (24.1)\n",
            "Requirement already satisfied: llvmlite<0.44,>=0.43.0dev0 in /usr/local/lib/python3.10/dist-packages (from numba>=0.51.0->librosa) (0.43.0)\n",
            "Requirement already satisfied: platformdirs>=2.5.0 in /usr/local/lib/python3.10/dist-packages (from pooch>=1.1->librosa) (4.3.6)\n",
            "Requirement already satisfied: requests>=2.19.0 in /usr/local/lib/python3.10/dist-packages (from pooch>=1.1->librosa) (2.32.3)\n",
            "Requirement already satisfied: threadpoolctl>=3.1.0 in /usr/local/lib/python3.10/dist-packages (from scikit-learn>=0.20.0->librosa) (3.5.0)\n",
            "Requirement already satisfied: cffi>=1.0 in /usr/local/lib/python3.10/dist-packages (from soundfile>=0.12.1->librosa) (1.17.1)\n",
            "Requirement already satisfied: pycparser in /usr/local/lib/python3.10/dist-packages (from cffi>=1.0->soundfile>=0.12.1->librosa) (2.22)\n",
            "Requirement already satisfied: charset-normalizer<4,>=2 in /usr/local/lib/python3.10/dist-packages (from requests>=2.19.0->pooch>=1.1->librosa) (3.4.0)\n",
            "Requirement already satisfied: idna<4,>=2.5 in /usr/local/lib/python3.10/dist-packages (from requests>=2.19.0->pooch>=1.1->librosa) (3.10)\n",
            "Requirement already satisfied: urllib3<3,>=1.21.1 in /usr/local/lib/python3.10/dist-packages (from requests>=2.19.0->pooch>=1.1->librosa) (2.2.3)\n",
            "Requirement already satisfied: certifi>=2017.4.17 in /usr/local/lib/python3.10/dist-packages (from requests>=2.19.0->pooch>=1.1->librosa) (2024.8.30)\n"
          ]
        }
      ],
      "source": [
        "pip install librosa"
      ]
    },
    {
      "cell_type": "code",
      "execution_count": null,
      "metadata": {
        "colab": {
          "base_uri": "https://localhost:8080/"
        },
        "collapsed": true,
        "id": "6Y9qXtxNEuMl",
        "outputId": "70a18572-c4ed-4c78-ffa5-dfa747ecf057"
      },
      "outputs": [
        {
          "name": "stdout",
          "output_type": "stream",
          "text": [
            "Deleted: /content/ece 1.wav\n",
            "Deleted: /content/ece 2.wav\n",
            "Deleted: /content/ece 3.wav\n",
            "Deleted: /content/ece 4.wav\n",
            "Deleted: /content/ece 5.wav\n",
            "Deleted: /content/ece 6.wav\n",
            "Deleted: /content/ece 7.wav\n",
            "Deleted: /content/ece 8.wav\n",
            "Deleted: /content/ece 9.wav\n",
            "Deleted: /content/ece 10.wav\n",
            "Deleted: /content/ece 11.wav\n",
            "Deleted: /content/ece 12.wav\n",
            "Deleted: /content/ece 13.wav\n",
            "Deleted: /content/ece 14.wav\n",
            "Deleted: /content/ece 15.wav\n",
            "Deleted: /content/ece 16.wav\n",
            "Deleted: /content/ece 17.wav\n",
            "Deleted: /content/ece 18.wav\n",
            "Deleted: /content/ece 19.wav\n",
            "Deleted: /content/ece 20.wav\n",
            "Deleted: /content/ece 21.wav\n",
            "Deleted: /content/ece 22.wav\n",
            "Deleted: /content/ece 23.wav\n",
            "Deleted: /content/ece 24.wav\n",
            "Deleted: /content/ece 25.wav\n",
            "Deleted: /content/ece 26.wav\n",
            "Deleted: /content/ece 27.wav\n",
            "Deleted: /content/ece 28.wav\n",
            "Deleted: /content/ece 29.wav\n",
            "Deleted: /content/ece 30.wav\n",
            "Deleted: /content/ece 31.wav\n",
            "Deleted: /content/ece 32.wav\n",
            "Deleted: /content/ece 33.wav\n",
            "Deleted: /content/ece 34.wav\n",
            "Deleted: /content/ece 35.wav\n",
            "Deleted: /content/ece 36.wav\n",
            "Deleted: /content/ece 37.wav\n",
            "Deleted: /content/ece 38.wav\n",
            "Deleted: /content/ece 39.wav\n",
            "Deleted: /content/ece 40.wav\n",
            "Deleted: /content/ece 41.wav\n",
            "Deleted: /content/ece 42.wav\n",
            "Deleted: /content/ece 43.wav\n",
            "Deleted: /content/ece 44.wav\n",
            "Deleted: /content/ece 45.wav\n",
            "Deleted: /content/ece 46.wav\n",
            "Deleted: /content/ece 47.wav\n",
            "Deleted: /content/ece 48.wav\n",
            "Deleted: /content/ece 49.wav\n",
            "Deleted: /content/ece 50.wav\n",
            "Deleted: /content/ece 51.wav\n",
            "Deleted: /content/ece 52.wav\n",
            "Deleted: /content/ece 53.wav\n",
            "Deleted: /content/ece 54.wav\n",
            "Deleted: /content/ece 55.wav\n",
            "Deleted: /content/ece 56.wav\n",
            "Deleted: /content/ece 57.wav\n",
            "Deleted: /content/ece 58.wav\n",
            "Deleted: /content/ece 59.wav\n",
            "Deleted: /content/ece 60.wav\n",
            "Deleted: /content/ece 61.wav\n",
            "Deleted: /content/ece 62.wav\n",
            "Deleted: /content/ece 63.wav\n",
            "Deleted: /content/ece 64.wav\n",
            "Deleted: /content/ece 65.wav\n",
            "Deleted: /content/ece 66.wav\n",
            "Deleted: /content/ece 67.wav\n",
            "Deleted: /content/ece 68.wav\n",
            "Deleted: /content/ece 69.wav\n",
            "Deleted: /content/ece 70.wav\n",
            "Deleted: /content/ece 71.wav\n",
            "Deleted: /content/ece 72.wav\n",
            "Deleted: /content/ece 73.wav\n",
            "Deleted: /content/ece 74.wav\n",
            "Deleted: /content/ece 75.wav\n",
            "Deleted: /content/ece 76.wav\n",
            "Deleted: /content/ece 77.wav\n",
            "Deleted: /content/ece 78.wav\n",
            "Deleted: /content/ece 79.wav\n",
            "Deleted: /content/ece 80.wav\n",
            "Deleted: /content/ece 81.wav\n",
            "Deleted: /content/ece 82.wav\n",
            "Deleted: /content/ece 83.wav\n",
            "Deleted: /content/ece 84.wav\n",
            "Deleted: /content/ece 85.wav\n",
            "Deleted: /content/ece 86.wav\n",
            "Deleted: /content/ece 87.wav\n",
            "Deleted: /content/ece 88.wav\n",
            "Deleted: /content/ece 89.wav\n",
            "Deleted: /content/ece 90.wav\n",
            "Deleted: /content/ece 91.wav\n",
            "Deleted: /content/ece 92.wav\n",
            "Deleted: /content/ece 93.wav\n",
            "Deleted: /content/ece 94.wav\n",
            "Deleted: /content/ece 95.wav\n",
            "Deleted: /content/ece 96.wav\n",
            "Deleted: /content/ece 97.wav\n",
            "Deleted: /content/ece 98.wav\n",
            "Deleted: /content/ece 99.wav\n",
            "Deleted: /content/ece 100.wav\n"
          ]
        }
      ],
      "source": [
        "import os\n",
        "\n",
        "# Specify the directory where your files are located\n",
        "directory = '/content/'  # Update this path to the correct folder\n",
        "\n",
        "# Loop through file numbers 1 to 100 and delete the corresponding .wav files\n",
        "for i in range(1, 101):\n",
        "    file_name = f'ece {i}.wav'  # Construct the file name\n",
        "    file_path = os.path.join(directory, file_name)  # Construct the full path to the file\n",
        "\n",
        "    # Check if the file exists\n",
        "    if os.path.exists(file_path):\n",
        "        os.remove(file_path)  # Remove the file\n",
        "        print(f'Deleted: {file_path}')\n",
        "    else:\n",
        "        print(f'File not found: {file_path}')\n"
      ]
    },
    {
      "cell_type": "code",
      "execution_count": null,
      "metadata": {
        "colab": {
          "base_uri": "https://localhost:8080/"
        },
        "id": "MH1vrwpbXK1c",
        "outputId": "7e34cfa4-ede7-42ef-97e2-f74e75747b6a"
      },
      "outputs": [
        {
          "name": "stdout",
          "output_type": "stream",
          "text": [
            "Final MFCC Matrix Shape:  (100, 1300)\n",
            "Final MFCC matrix saved to final_mfcc_matrix.csv\n"
          ]
        }
      ],
      "source": [
        "import librosa\n",
        "import numpy as np\n",
        "\n",
        "def extract_mfcc_coefficients(audio_path, total_coeffs=1300, n_mfcc=13):\n",
        "    \"\"\"\n",
        "    Extracts the first 'total_coeffs' MFCC coefficients from an audio file.\n",
        "    \"\"\"\n",
        "    y, sr = librosa.load(audio_path, sr=None)\n",
        "\n",
        "    # Compute MFCCs with 13 coefficients per frame\n",
        "    mfcc = librosa.feature.mfcc(y=y, sr=sr, n_mfcc=n_mfcc)\n",
        "\n",
        "    # Flatten to get a single-dimensional array and take the first 1300 coefficients\n",
        "    mfcc_flat = mfcc.T.flatten()[:total_coeffs]\n",
        "\n",
        "    # If the flattened array has less than 1300 coefficients, pad with zeros\n",
        "    if len(mfcc_flat) < total_coeffs:\n",
        "        mfcc_flat = np.pad(mfcc_flat, (0, total_coeffs - len(mfcc_flat)), mode='constant')\n",
        "\n",
        "    return mfcc_flat\n",
        "\n",
        "def generate_mfcc_matrix(num_files=100, total_coeffs=1300, file_prefix=\"ECE\"):\n",
        "    \"\"\"\n",
        "    Loops through audio files named clean_ECE1.wav to clean_ECE100.wav,\n",
        "    extracts MFCCs, and generates a matrix with shape (100, 1300).\n",
        "    \"\"\"\n",
        "    mfcc_matrix = np.zeros((num_files, total_coeffs))\n",
        "\n",
        "    for i in range(1, num_files + 1):\n",
        "        audio_path = f\"{file_prefix} {i} ({i}).wav\"  # Generates names \"clean_ECE1.wav\", \"clean_ECE2.wav\", ..., \"clean_ECE100.wav\"\n",
        "        try:\n",
        "            # Extract the first 1300 MFCC coefficients for each file\n",
        "            mfcc_coeffs = extract_mfcc_coefficients(audio_path, total_coeffs=total_coeffs)\n",
        "            mfcc_matrix[i - 1, :] = mfcc_coeffs\n",
        "        except Exception as e:\n",
        "            print(f\"Could not process file {audio_path}: {e}\")\n",
        "\n",
        "    return mfcc_matrix\n",
        "\n",
        "def save_matrix_to_csv(matrix, output_path=\"final_mfcc_matrix.csv\"):\n",
        "    \"\"\"\n",
        "    Saves the MFCC matrix to a CSV file.\n",
        "    \"\"\"\n",
        "    np.savetxt(output_path, matrix, delimiter=',')\n",
        "    print(f\"Final MFCC matrix saved to {output_path}\")\n",
        "\n",
        "def main():\n",
        "    # Generate the MFCC matrix from 100 audio files\n",
        "    mfcc_matrix = generate_mfcc_matrix()\n",
        "\n",
        "    # Check matrix shape for confirmation\n",
        "    print(\"Final MFCC Matrix Shape: \", mfcc_matrix.shape)  # Should be (100, 1300)\n",
        "\n",
        "    # Save the matrix to a CSV file\n",
        "    save_matrix_to_csv(mfcc_matrix)\n",
        "\n",
        "if __name__ == \"__main__\":\n",
        "    main()"
      ]
    }
  ],
  "metadata": {
    "colab": {
      "provenance": [],
      "authorship_tag": "ABX9TyPCBV2vgKeIfDRsgljIAloz",
      "include_colab_link": true
    },
    "kernelspec": {
      "display_name": "Python 3",
      "name": "python3"
    },
    "language_info": {
      "name": "python"
    }
  },
  "nbformat": 4,
  "nbformat_minor": 0
}